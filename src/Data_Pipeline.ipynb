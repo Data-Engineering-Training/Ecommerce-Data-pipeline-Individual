{
  "cells": [
    {
      "cell_type": "code",
      "execution_count": null,
      "metadata": {
        "colab": {
          "base_uri": "https://localhost:8080/"
        },
        "id": "gzmfHRxAQdrr",
        "outputId": "e6987b78-b45e-4cde-c5a5-d2b763bf058d"
      },
      "outputs": [],
      "source": [
        "! pip install pyspark\n",
        "! pip install avro"
      ]
    },
    {
      "cell_type": "code",
      "execution_count": 1,
      "metadata": {
        "id": "L_GJluEFTsi5"
      },
      "outputs": [],
      "source": [
        "import os\n",
        "from pathlib import Path"
      ]
    },
    {
      "cell_type": "code",
      "execution_count": 3,
      "metadata": {
        "colab": {
          "base_uri": "https://localhost:8080/"
        },
        "id": "STkO5nJQTzjJ",
        "outputId": "8a35b429-bb9c-47bd-9de3-e779eb2293b2"
      },
      "outputs": [],
      "source": [
        "from pyspark.sql import SparkSession\n",
        "from pyspark.sql import SparkSession\n",
        "from pyspark.sql.types import StructType, StructField, StringType, BooleanType, TimestampType, DoubleType, IntegerType"
      ]
    },
    {
      "cell_type": "code",
      "execution_count": 4,
      "metadata": {
        "id": "mv4cLRWNUMMy"
      },
      "outputs": [
        {
          "ename": "PySparkRuntimeError",
          "evalue": "[JAVA_GATEWAY_EXITED] Java gateway process exited before sending its port number.",
          "output_type": "error",
          "traceback": [
            "\u001b[1;31m---------------------------------------------------------------------------\u001b[0m",
            "\u001b[1;31mPySparkRuntimeError\u001b[0m                       Traceback (most recent call last)",
            "Cell \u001b[1;32mIn[4], line 1\u001b[0m\n\u001b[1;32m----> 1\u001b[0m spark \u001b[38;5;241m=\u001b[39m \u001b[43mSparkSession\u001b[49m\u001b[38;5;241;43m.\u001b[39;49m\u001b[43mbuilder\u001b[49m\u001b[38;5;241;43m.\u001b[39;49m\u001b[43mappName\u001b[49m\u001b[43m(\u001b[49m\u001b[38;5;124;43m\"\u001b[39;49m\u001b[38;5;124;43mDataPipeline\u001b[39;49m\u001b[38;5;124;43m\"\u001b[39;49m\u001b[43m)\u001b[49m\u001b[38;5;241;43m.\u001b[39;49m\u001b[43mgetOrCreate\u001b[49m\u001b[43m(\u001b[49m\u001b[43m)\u001b[49m\n",
            "File \u001b[1;32mc:\\Users\\SethAntanah\\Desktop\\Data Engineering - Learning\\Data-pipeline-Individual\\.venv\\lib\\site-packages\\pyspark\\sql\\session.py:497\u001b[0m, in \u001b[0;36mSparkSession.Builder.getOrCreate\u001b[1;34m(self)\u001b[0m\n\u001b[0;32m    495\u001b[0m     sparkConf\u001b[38;5;241m.\u001b[39mset(key, value)\n\u001b[0;32m    496\u001b[0m \u001b[38;5;66;03m# This SparkContext may be an existing one.\u001b[39;00m\n\u001b[1;32m--> 497\u001b[0m sc \u001b[38;5;241m=\u001b[39m \u001b[43mSparkContext\u001b[49m\u001b[38;5;241;43m.\u001b[39;49m\u001b[43mgetOrCreate\u001b[49m\u001b[43m(\u001b[49m\u001b[43msparkConf\u001b[49m\u001b[43m)\u001b[49m\n\u001b[0;32m    498\u001b[0m \u001b[38;5;66;03m# Do not update `SparkConf` for existing `SparkContext`, as it's shared\u001b[39;00m\n\u001b[0;32m    499\u001b[0m \u001b[38;5;66;03m# by all sessions.\u001b[39;00m\n\u001b[0;32m    500\u001b[0m session \u001b[38;5;241m=\u001b[39m SparkSession(sc, options\u001b[38;5;241m=\u001b[39m\u001b[38;5;28mself\u001b[39m\u001b[38;5;241m.\u001b[39m_options)\n",
            "File \u001b[1;32mc:\\Users\\SethAntanah\\Desktop\\Data Engineering - Learning\\Data-pipeline-Individual\\.venv\\lib\\site-packages\\pyspark\\context.py:515\u001b[0m, in \u001b[0;36mSparkContext.getOrCreate\u001b[1;34m(cls, conf)\u001b[0m\n\u001b[0;32m    513\u001b[0m \u001b[38;5;28;01mwith\u001b[39;00m SparkContext\u001b[38;5;241m.\u001b[39m_lock:\n\u001b[0;32m    514\u001b[0m     \u001b[38;5;28;01mif\u001b[39;00m SparkContext\u001b[38;5;241m.\u001b[39m_active_spark_context \u001b[38;5;129;01mis\u001b[39;00m \u001b[38;5;28;01mNone\u001b[39;00m:\n\u001b[1;32m--> 515\u001b[0m         \u001b[43mSparkContext\u001b[49m\u001b[43m(\u001b[49m\u001b[43mconf\u001b[49m\u001b[38;5;241;43m=\u001b[39;49m\u001b[43mconf\u001b[49m\u001b[43m \u001b[49m\u001b[38;5;129;43;01mor\u001b[39;49;00m\u001b[43m \u001b[49m\u001b[43mSparkConf\u001b[49m\u001b[43m(\u001b[49m\u001b[43m)\u001b[49m\u001b[43m)\u001b[49m\n\u001b[0;32m    516\u001b[0m     \u001b[38;5;28;01massert\u001b[39;00m SparkContext\u001b[38;5;241m.\u001b[39m_active_spark_context \u001b[38;5;129;01mis\u001b[39;00m \u001b[38;5;129;01mnot\u001b[39;00m \u001b[38;5;28;01mNone\u001b[39;00m\n\u001b[0;32m    517\u001b[0m     \u001b[38;5;28;01mreturn\u001b[39;00m SparkContext\u001b[38;5;241m.\u001b[39m_active_spark_context\n",
            "File \u001b[1;32mc:\\Users\\SethAntanah\\Desktop\\Data Engineering - Learning\\Data-pipeline-Individual\\.venv\\lib\\site-packages\\pyspark\\context.py:201\u001b[0m, in \u001b[0;36mSparkContext.__init__\u001b[1;34m(self, master, appName, sparkHome, pyFiles, environment, batchSize, serializer, conf, gateway, jsc, profiler_cls, udf_profiler_cls, memory_profiler_cls)\u001b[0m\n\u001b[0;32m    195\u001b[0m \u001b[38;5;28;01mif\u001b[39;00m gateway \u001b[38;5;129;01mis\u001b[39;00m \u001b[38;5;129;01mnot\u001b[39;00m \u001b[38;5;28;01mNone\u001b[39;00m \u001b[38;5;129;01mand\u001b[39;00m gateway\u001b[38;5;241m.\u001b[39mgateway_parameters\u001b[38;5;241m.\u001b[39mauth_token \u001b[38;5;129;01mis\u001b[39;00m \u001b[38;5;28;01mNone\u001b[39;00m:\n\u001b[0;32m    196\u001b[0m     \u001b[38;5;28;01mraise\u001b[39;00m \u001b[38;5;167;01mValueError\u001b[39;00m(\n\u001b[0;32m    197\u001b[0m         \u001b[38;5;124m\"\u001b[39m\u001b[38;5;124mYou are trying to pass an insecure Py4j gateway to Spark. This\u001b[39m\u001b[38;5;124m\"\u001b[39m\n\u001b[0;32m    198\u001b[0m         \u001b[38;5;124m\"\u001b[39m\u001b[38;5;124m is not allowed as it is a security risk.\u001b[39m\u001b[38;5;124m\"\u001b[39m\n\u001b[0;32m    199\u001b[0m     )\n\u001b[1;32m--> 201\u001b[0m \u001b[43mSparkContext\u001b[49m\u001b[38;5;241;43m.\u001b[39;49m\u001b[43m_ensure_initialized\u001b[49m\u001b[43m(\u001b[49m\u001b[38;5;28;43mself\u001b[39;49m\u001b[43m,\u001b[49m\u001b[43m \u001b[49m\u001b[43mgateway\u001b[49m\u001b[38;5;241;43m=\u001b[39;49m\u001b[43mgateway\u001b[49m\u001b[43m,\u001b[49m\u001b[43m \u001b[49m\u001b[43mconf\u001b[49m\u001b[38;5;241;43m=\u001b[39;49m\u001b[43mconf\u001b[49m\u001b[43m)\u001b[49m\n\u001b[0;32m    202\u001b[0m \u001b[38;5;28;01mtry\u001b[39;00m:\n\u001b[0;32m    203\u001b[0m     \u001b[38;5;28mself\u001b[39m\u001b[38;5;241m.\u001b[39m_do_init(\n\u001b[0;32m    204\u001b[0m         master,\n\u001b[0;32m    205\u001b[0m         appName,\n\u001b[1;32m   (...)\u001b[0m\n\u001b[0;32m    215\u001b[0m         memory_profiler_cls,\n\u001b[0;32m    216\u001b[0m     )\n",
            "File \u001b[1;32mc:\\Users\\SethAntanah\\Desktop\\Data Engineering - Learning\\Data-pipeline-Individual\\.venv\\lib\\site-packages\\pyspark\\context.py:436\u001b[0m, in \u001b[0;36mSparkContext._ensure_initialized\u001b[1;34m(cls, instance, gateway, conf)\u001b[0m\n\u001b[0;32m    434\u001b[0m \u001b[38;5;28;01mwith\u001b[39;00m SparkContext\u001b[38;5;241m.\u001b[39m_lock:\n\u001b[0;32m    435\u001b[0m     \u001b[38;5;28;01mif\u001b[39;00m \u001b[38;5;129;01mnot\u001b[39;00m SparkContext\u001b[38;5;241m.\u001b[39m_gateway:\n\u001b[1;32m--> 436\u001b[0m         SparkContext\u001b[38;5;241m.\u001b[39m_gateway \u001b[38;5;241m=\u001b[39m gateway \u001b[38;5;129;01mor\u001b[39;00m \u001b[43mlaunch_gateway\u001b[49m\u001b[43m(\u001b[49m\u001b[43mconf\u001b[49m\u001b[43m)\u001b[49m\n\u001b[0;32m    437\u001b[0m         SparkContext\u001b[38;5;241m.\u001b[39m_jvm \u001b[38;5;241m=\u001b[39m SparkContext\u001b[38;5;241m.\u001b[39m_gateway\u001b[38;5;241m.\u001b[39mjvm\n\u001b[0;32m    439\u001b[0m     \u001b[38;5;28;01mif\u001b[39;00m instance:\n",
            "File \u001b[1;32mc:\\Users\\SethAntanah\\Desktop\\Data Engineering - Learning\\Data-pipeline-Individual\\.venv\\lib\\site-packages\\pyspark\\java_gateway.py:107\u001b[0m, in \u001b[0;36mlaunch_gateway\u001b[1;34m(conf, popen_kwargs)\u001b[0m\n\u001b[0;32m    104\u001b[0m     time\u001b[38;5;241m.\u001b[39msleep(\u001b[38;5;241m0.1\u001b[39m)\n\u001b[0;32m    106\u001b[0m \u001b[38;5;28;01mif\u001b[39;00m \u001b[38;5;129;01mnot\u001b[39;00m os\u001b[38;5;241m.\u001b[39mpath\u001b[38;5;241m.\u001b[39misfile(conn_info_file):\n\u001b[1;32m--> 107\u001b[0m     \u001b[38;5;28;01mraise\u001b[39;00m PySparkRuntimeError(\n\u001b[0;32m    108\u001b[0m         error_class\u001b[38;5;241m=\u001b[39m\u001b[38;5;124m\"\u001b[39m\u001b[38;5;124mJAVA_GATEWAY_EXITED\u001b[39m\u001b[38;5;124m\"\u001b[39m,\n\u001b[0;32m    109\u001b[0m         message_parameters\u001b[38;5;241m=\u001b[39m{},\n\u001b[0;32m    110\u001b[0m     )\n\u001b[0;32m    112\u001b[0m \u001b[38;5;28;01mwith\u001b[39;00m \u001b[38;5;28mopen\u001b[39m(conn_info_file, \u001b[38;5;124m\"\u001b[39m\u001b[38;5;124mrb\u001b[39m\u001b[38;5;124m\"\u001b[39m) \u001b[38;5;28;01mas\u001b[39;00m info:\n\u001b[0;32m    113\u001b[0m     gateway_port \u001b[38;5;241m=\u001b[39m read_int(info)\n",
            "\u001b[1;31mPySparkRuntimeError\u001b[0m: [JAVA_GATEWAY_EXITED] Java gateway process exited before sending its port number."
          ]
        }
      ],
      "source": [
        "spark = SparkSession.builder.appName(\"DataPipeline\").getOrCreate()"
      ]
    },
    {
      "cell_type": "code",
      "execution_count": 16,
      "metadata": {
        "colab": {
          "base_uri": "https://localhost:8080/"
        },
        "id": "IkAtvZRnTzt2",
        "outputId": "68e17eba-8232-4c9c-dcb9-90abb82c8b54"
      },
      "outputs": [
        {
          "data": {
            "text/plain": [
              "PosixPath('/content')"
            ]
          },
          "execution_count": 16,
          "metadata": {},
          "output_type": "execute_result"
        }
      ],
      "source": [
        "BASE_DIR = Path().parent.absolute()\n",
        "BASE_DIR"
      ]
    },
    {
      "cell_type": "code",
      "execution_count": 17,
      "metadata": {
        "id": "0jQZNcFFUCLu"
      },
      "outputs": [],
      "source": [
        "customer_files = []\n",
        "delivery_files = []\n",
        "orders_files = []"
      ]
    },
    {
      "cell_type": "code",
      "execution_count": 18,
      "metadata": {
        "colab": {
          "base_uri": "https://localhost:8080/"
        },
        "id": "kROkvsnWUGAC",
        "outputId": "87c95d27-d0f6-4ec0-870e-df432f300ea7"
      },
      "outputs": [
        {
          "name": "stdout",
          "output_type": "stream",
          "text": [
            "Customers files: 1\n",
            "Delivery files: 1\n",
            "Orders files: 1\n"
          ]
        }
      ],
      "source": [
        "# load paths to dataset\n",
        "for path in os.listdir(BASE_DIR):\n",
        "    if path.endswith('csv') | path.endswith('json'):\n",
        "        if 'customers' in path.lower():\n",
        "            customer_files.append(path)\n",
        "        elif 'orders' in path.lower():\n",
        "            orders_files.append(path)\n",
        "        elif 'deliveries' in path.lower():\n",
        "            delivery_files.append(path)\n",
        "\n",
        "\n",
        "print(f\"Customers files: {len(customer_files)}\")\n",
        "print(f\"Delivery files: {len(delivery_files)}\")\n",
        "print(f\"Orders files: {len(orders_files)}\")"
      ]
    },
    {
      "cell_type": "code",
      "execution_count": 8,
      "metadata": {
        "id": "uGy40I_Uu1-D"
      },
      "outputs": [],
      "source": [
        "# Define schema for JSON data\n",
        "customers_schema = StructType([\n",
        "    StructField(\"Customer ID\", StringType(), nullable=False),\n",
        "    StructField(\"Last Used Platform\", StringType(), nullable=False),\n",
        "    StructField(\"Is Blocked\", BooleanType(), nullable=False),\n",
        "    StructField(\"Created At\", StringType(), nullable=False),\n",
        "    StructField(\"Language\", StringType(), nullable=False),\n",
        "    StructField(\"Outstanding Amount\", DoubleType(), nullable=False),\n",
        "    StructField(\"Loyalty Points\", IntegerType(), nullable=False),\n",
        "    StructField(\"Number of employees\", IntegerType(), nullable=True),\n",
        "])\n",
        "\n",
        "\n",
        "\n",
        "orders_schema = StructType([\n",
        "    StructField(\"Order ID\", StringType(), nullable=True),\n",
        "    StructField(\"Order Status\", StringType(), nullable=True),\n",
        "    StructField(\"Category Name\", StringType(), nullable=True),\n",
        "    StructField(\"SKU\", StringType(), nullable=True),\n",
        "    StructField(\"Customization Group\", StringType(), nullable=True),\n",
        "    StructField(\"Customization Option\", StringType(), nullable=True),\n",
        "    StructField(\"Quantity\", IntegerType(), nullable=True),\n",
        "    StructField(\"Unit Price\", DoubleType(), nullable=True),\n",
        "    StructField(\"Cost Price\", DoubleType(), nullable=True),\n",
        "    StructField(\"Total Cost Price\", DoubleType(), nullable=True),\n",
        "    StructField(\"Total Price\", DoubleType(), nullable=True),\n",
        "    StructField(\"Order Total\", DoubleType(), nullable=True),\n",
        "    StructField(\"Sub Total\", DoubleType(), nullable=True),\n",
        "    StructField(\"Tax\", DoubleType(), nullable=True),\n",
        "    StructField(\"Delivery Charge\", DoubleType(), nullable=True),\n",
        "    StructField(\"Tip\", DoubleType(), nullable=True),\n",
        "    StructField(\"Discount\", DoubleType(), nullable=True),\n",
        "    StructField(\"Remaining Balance\", DoubleType(), nullable=True),\n",
        "    StructField(\"Payment Method\", StringType(), nullable=True),\n",
        "    StructField(\"Additional Charge\", DoubleType(), nullable=True),\n",
        "    StructField(\"Taxable Amount\", DoubleType(), nullable=True),\n",
        "    StructField(\"Transaction ID\", StringType(), nullable=True),\n",
        "    StructField(\"Currency Symbol\", StringType(), nullable=True),\n",
        "    StructField(\"Transaction Status\", StringType(), nullable=True),\n",
        "    StructField(\"Promo Code\", StringType(), nullable=True),\n",
        "    StructField(\"Customer ID\", StringType(), nullable=True),\n",
        "    StructField(\"Merchant ID\", StringType(), nullable=True),\n",
        "    StructField(\"Description\", StringType(), nullable=True),\n",
        "    StructField(\"Distance (in km)\", DoubleType(), nullable=True),\n",
        "    StructField(\"Order Time\", TimestampType(), nullable=True),\n",
        "    StructField(\"Pickup Time\", TimestampType(), nullable=True),\n",
        "    StructField(\"Delivery Time\", TimestampType(), nullable=True),\n",
        "    StructField(\"Ratings\", IntegerType(), nullable=True),\n",
        "    StructField(\"Reviews\", StringType(), nullable=True),\n",
        "    StructField(\"Merchant Earning\", DoubleType(), nullable=True),\n",
        "    StructField(\"Commission Amount\", DoubleType(), nullable=True),\n",
        "    StructField(\"Commission Payout Status\", StringType(), nullable=True),\n",
        "    StructField(\"Order Preparation Time\", IntegerType(), nullable=True),\n",
        "    StructField(\"Debt Amount\", DoubleType(), nullable=True),\n",
        "    StructField(\"Redeemed Loyalty Points\", IntegerType(), nullable=True),\n",
        "    StructField(\"Consumed Loyalty Points\", IntegerType(), nullable=True),\n",
        "    StructField(\"Cancellation Reason\", StringType(), nullable=True),\n",
        "    StructField(\"Flat Discount\", DoubleType(), nullable=True),\n",
        "    StructField(\"Checkout Template Name\", StringType(), nullable=True),\n",
        "    StructField(\"Checkout Template Value\", StringType(), nullable=True)\n",
        "])\n",
        "\n",
        "\n",
        "deliveries_schema = StructType([\n",
        "    StructField(\"Task_ID\", StringType(), nullable=True),\n",
        "    StructField(\"Order_ID\", StringType(), nullable=True),\n",
        "    StructField(\"Relationship\", StringType(), nullable=True),\n",
        "    StructField(\"Team_Name\", StringType(), nullable=True),\n",
        "    StructField(\"Task_Type\", StringType(), nullable=True),\n",
        "    StructField(\"Notes\", StringType(), nullable=True),\n",
        "    StructField(\"Agent_ID\", StringType(), nullable=True),\n",
        "    StructField(\"Agent_Name\", StringType(), nullable=True),\n",
        "    StructField(\"Distance(m)\", DoubleType(), nullable=True),\n",
        "    StructField(\"Total_Time_Taken(min)\", DoubleType(), nullable=True),\n",
        "    StructField(\"Task_Status\", StringType(), nullable=True),\n",
        "    StructField(\"Ref_Images\", StringType(), nullable=True),\n",
        "    StructField(\"Rating\", IntegerType(), nullable=True),\n",
        "    StructField(\"Review\", StringType(), nullable=True),\n",
        "    StructField(\"Latitude\", DoubleType(), nullable=True),\n",
        "    StructField(\"Longitude\", DoubleType(), nullable=True),\n",
        "    StructField(\"Tags\", StringType(), nullable=True),\n",
        "    StructField(\"Promo_Applied\", StringType(), nullable=True),\n",
        "    StructField(\"Custom_Template_ID\", StringType(), nullable=True),\n",
        "    StructField(\"Task_Details_QTY\", IntegerType(), nullable=True),\n",
        "    StructField(\"Task_Details_AMOUNT\", DoubleType(), nullable=True),\n",
        "    StructField(\"Special_Instructions\", StringType(), nullable=True),\n",
        "    StructField(\"Tip\", DoubleType(), nullable=True),\n",
        "    StructField(\"Delivery_Charges\", DoubleType(), nullable=True),\n",
        "    StructField(\"Discount\", DoubleType(), nullable=True),\n",
        "    StructField(\"Subtotal\", DoubleType(), nullable=True),\n",
        "    StructField(\"Payment_Type\", StringType(), nullable=True),\n",
        "    StructField(\"Task_Category\", StringType(), nullable=True),\n",
        "    StructField(\"Earning\", DoubleType(), nullable=True),\n",
        "    StructField(\"Pricing\", StringType(), nullable=True)\n",
        "])"
      ]
    },
    {
      "cell_type": "code",
      "execution_count": 27,
      "metadata": {
        "id": "3PAYZ2xRc0ms"
      },
      "outputs": [],
      "source": [
        "def json_file_loader(path, schema, dynamic_schema):\n",
        "    try:\n",
        "        file_path = f'{BASE_DIR}/{path}'\n",
        "        if dynamic_schema:\n",
        "                  # Load JSON file into DataFrame with the defined schema\n",
        "                  df = spark.read.option('multiline', 'true') \\\n",
        "                            .option('header', 'true') \\\n",
        "                            .schema(schema).json(file_path)\n",
        "        else:\n",
        "             df = spark.read.option('multiline', 'true') \\\n",
        "                            .option('header', 'true') \\\n",
        "                            .option('inferSchema', 'true').json(file_path)\n",
        "\n",
        "        return df\n",
        "    except Exception as e:\n",
        "        return None"
      ]
    },
    {
      "cell_type": "code",
      "execution_count": 28,
      "metadata": {
        "id": "ww34H-woErbG"
      },
      "outputs": [],
      "source": [
        "def csv_file_loader(path, schema, dynamic_schema):\n",
        "    try:\n",
        "        file_path = f'{BASE_DIR}/{path}'\n",
        "        if dynamic_schema:\n",
        "                  # Load JSON file into DataFrame with the defined schema\n",
        "                  df = spark.read \\\n",
        "                            .option('header', 'true') \\\n",
        "                            .schema(schema).csv(file_path)\n",
        "        else:\n",
        "             df = spark.read \\\n",
        "                            .option('header', 'true') \\\n",
        "                            .option('inferSchema', 'true').csv(file_path)\n",
        "\n",
        "        return df\n",
        "    except Exception as e:\n",
        "        return None\n"
      ]
    },
    {
      "cell_type": "code",
      "execution_count": 26,
      "metadata": {
        "id": "liRCq_CNGjrr"
      },
      "outputs": [],
      "source": [
        "def load_data_from_file(filename, schema, dynamic_schema):\n",
        "        file_type = filename.split('.')[1]\n",
        "        if file_type == 'json':\n",
        "           return json_file_loader(filename, schema, dynamic_schema)\n",
        "        elif file_type == 'csv':\n",
        "          return csv_file_loader(filename, schema, dynamic_schema)\n",
        "        else:\n",
        "          return None\n"
      ]
    },
    {
      "cell_type": "code",
      "execution_count": 29,
      "metadata": {
        "colab": {
          "base_uri": "https://localhost:8080/"
        },
        "id": "dClf38fGdPlj",
        "outputId": "bde216cb-16f4-4138-9d7e-2f34bbb0cf48"
      },
      "outputs": [
        {
          "name": "stdout",
          "output_type": "stream",
          "text": [
            "+--------------------+-----------+----------+--------+------------------+--------------+-------------------+------------------+\n",
            "|          Created At|Customer ID|Is Blocked|Language|Last Used Platform|Loyalty Points|Number of employees|Outstanding Amount|\n",
            "+--------------------+-----------+----------+--------+------------------+--------------+-------------------+------------------+\n",
            "|2021-03-15T17:13:...|    3144837|         0|      en|               WEB|             0|               NULL|                 0|\n",
            "|2021-03-20T14:15:...|    3174590|         0|      en|               WEB|             0|               NULL|                 0|\n",
            "|2021-03-21T15:36:...|    3181998|         0|      en|               WEB|             0|               NULL|                 0|\n",
            "|2021-03-23T08:54:...|    3191244|         0|      en|               WEB|           367|               NULL|                 0|\n",
            "|2021-04-06T13:52:...|    3274222|         0|      en|               WEB|             0|               NULL|                 0|\n",
            "+--------------------+-----------+----------+--------+------------------+--------------+-------------------+------------------+\n",
            "only showing top 5 rows\n",
            "\n",
            "None\n"
          ]
        }
      ],
      "source": [
        "for file in customer_files:\n",
        "   df = load_data_from_file(file, customers_schema, False)\n",
        "   if df:\n",
        "      print(df.show(5))\n",
        "   break"
      ]
    },
    {
      "cell_type": "code",
      "execution_count": null,
      "metadata": {
        "id": "5KVeiK8txer_"
      },
      "outputs": [],
      "source": [
        "# Stop SparkSession\n",
        "spark.stop()"
      ]
    }
  ],
  "metadata": {
    "colab": {
      "provenance": []
    },
    "kernelspec": {
      "display_name": "Python 3",
      "name": "python3"
    },
    "language_info": {
      "codemirror_mode": {
        "name": "ipython",
        "version": 3
      },
      "file_extension": ".py",
      "mimetype": "text/x-python",
      "name": "python",
      "nbconvert_exporter": "python",
      "pygments_lexer": "ipython3",
      "version": "3.10.11"
    }
  },
  "nbformat": 4,
  "nbformat_minor": 0
}
